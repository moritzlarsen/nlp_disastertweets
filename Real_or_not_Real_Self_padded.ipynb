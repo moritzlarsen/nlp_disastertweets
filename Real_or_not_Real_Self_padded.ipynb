{
  "nbformat": 4,
  "nbformat_minor": 0,
  "metadata": {
    "colab": {
      "name": "Real or not Real Self padded.ipynb",
      "provenance": [],
      "include_colab_link": true
    },
    "kernelspec": {
      "name": "python3",
      "display_name": "Python 3"
    }
  },
  "cells": [
    {
      "cell_type": "markdown",
      "metadata": {
        "id": "view-in-github",
        "colab_type": "text"
      },
      "source": [
        "<a href=\"https://colab.research.google.com/github/moritzlarsen/nlp_disastertweets/blob/master/Real_or_not_Real_Self_padded.ipynb\" target=\"_parent\"><img src=\"https://colab.research.google.com/assets/colab-badge.svg\" alt=\"Open In Colab\"/></a>"
      ]
    },
    {
      "cell_type": "markdown",
      "metadata": {
        "id": "wgmH5dm4T0Vc",
        "colab_type": "text"
      },
      "source": [
        "### Text cleaning\n"
      ]
    },
    {
      "cell_type": "code",
      "metadata": {
        "id": "LOHe-Z1MGMae",
        "colab_type": "code",
        "colab": {
          "base_uri": "https://localhost:8080/",
          "height": 91
        },
        "outputId": "54c74d3b-ae04-4ccf-e050-fad2001740b0"
      },
      "source": [
        "#Imports\n",
        "from google.colab import files\n",
        "import nltk\n",
        "nltk.download('stopwords')\n",
        "nltk.download('punkt')\n",
        "from nltk.tokenize import word_tokenize\n",
        "import pandas as pd\n",
        "import io\n",
        "import re\n",
        "import string"
      ],
      "execution_count": null,
      "outputs": [
        {
          "output_type": "stream",
          "text": [
            "[nltk_data] Downloading package stopwords to /root/nltk_data...\n",
            "[nltk_data]   Unzipping corpora/stopwords.zip.\n",
            "[nltk_data] Downloading package punkt to /root/nltk_data...\n",
            "[nltk_data]   Unzipping tokenizers/punkt.zip.\n"
          ],
          "name": "stdout"
        }
      ]
    },
    {
      "cell_type": "code",
      "metadata": {
        "id": "g9P5kygRXu7x",
        "colab_type": "code",
        "colab": {
          "resources": {
            "http://localhost:8080/nbextensions/google.colab/files.js": {
              "data": "Ly8gQ29weXJpZ2h0IDIwMTcgR29vZ2xlIExMQwovLwovLyBMaWNlbnNlZCB1bmRlciB0aGUgQXBhY2hlIExpY2Vuc2UsIFZlcnNpb24gMi4wICh0aGUgIkxpY2Vuc2UiKTsKLy8geW91IG1heSBub3QgdXNlIHRoaXMgZmlsZSBleGNlcHQgaW4gY29tcGxpYW5jZSB3aXRoIHRoZSBMaWNlbnNlLgovLyBZb3UgbWF5IG9idGFpbiBhIGNvcHkgb2YgdGhlIExpY2Vuc2UgYXQKLy8KLy8gICAgICBodHRwOi8vd3d3LmFwYWNoZS5vcmcvbGljZW5zZXMvTElDRU5TRS0yLjAKLy8KLy8gVW5sZXNzIHJlcXVpcmVkIGJ5IGFwcGxpY2FibGUgbGF3IG9yIGFncmVlZCB0byBpbiB3cml0aW5nLCBzb2Z0d2FyZQovLyBkaXN0cmlidXRlZCB1bmRlciB0aGUgTGljZW5zZSBpcyBkaXN0cmlidXRlZCBvbiBhbiAiQVMgSVMiIEJBU0lTLAovLyBXSVRIT1VUIFdBUlJBTlRJRVMgT1IgQ09ORElUSU9OUyBPRiBBTlkgS0lORCwgZWl0aGVyIGV4cHJlc3Mgb3IgaW1wbGllZC4KLy8gU2VlIHRoZSBMaWNlbnNlIGZvciB0aGUgc3BlY2lmaWMgbGFuZ3VhZ2UgZ292ZXJuaW5nIHBlcm1pc3Npb25zIGFuZAovLyBsaW1pdGF0aW9ucyB1bmRlciB0aGUgTGljZW5zZS4KCi8qKgogKiBAZmlsZW92ZXJ2aWV3IEhlbHBlcnMgZm9yIGdvb2dsZS5jb2xhYiBQeXRob24gbW9kdWxlLgogKi8KKGZ1bmN0aW9uKHNjb3BlKSB7CmZ1bmN0aW9uIHNwYW4odGV4dCwgc3R5bGVBdHRyaWJ1dGVzID0ge30pIHsKICBjb25zdCBlbGVtZW50ID0gZG9jdW1lbnQuY3JlYXRlRWxlbWVudCgnc3BhbicpOwogIGVsZW1lbnQudGV4dENvbnRlbnQgPSB0ZXh0OwogIGZvciAoY29uc3Qga2V5IG9mIE9iamVjdC5rZXlzKHN0eWxlQXR0cmlidXRlcykpIHsKICAgIGVsZW1lbnQuc3R5bGVba2V5XSA9IHN0eWxlQXR0cmlidXRlc1trZXldOwogIH0KICByZXR1cm4gZWxlbWVudDsKfQoKLy8gTWF4IG51bWJlciBvZiBieXRlcyB3aGljaCB3aWxsIGJlIHVwbG9hZGVkIGF0IGEgdGltZS4KY29uc3QgTUFYX1BBWUxPQURfU0laRSA9IDEwMCAqIDEwMjQ7CgpmdW5jdGlvbiBfdXBsb2FkRmlsZXMoaW5wdXRJZCwgb3V0cHV0SWQpIHsKICBjb25zdCBzdGVwcyA9IHVwbG9hZEZpbGVzU3RlcChpbnB1dElkLCBvdXRwdXRJZCk7CiAgY29uc3Qgb3V0cHV0RWxlbWVudCA9IGRvY3VtZW50LmdldEVsZW1lbnRCeUlkKG91dHB1dElkKTsKICAvLyBDYWNoZSBzdGVwcyBvbiB0aGUgb3V0cHV0RWxlbWVudCB0byBtYWtlIGl0IGF2YWlsYWJsZSBmb3IgdGhlIG5leHQgY2FsbAogIC8vIHRvIHVwbG9hZEZpbGVzQ29udGludWUgZnJvbSBQeXRob24uCiAgb3V0cHV0RWxlbWVudC5zdGVwcyA9IHN0ZXBzOwoKICByZXR1cm4gX3VwbG9hZEZpbGVzQ29udGludWUob3V0cHV0SWQpOwp9CgovLyBUaGlzIGlzIHJvdWdobHkgYW4gYXN5bmMgZ2VuZXJhdG9yIChub3Qgc3VwcG9ydGVkIGluIHRoZSBicm93c2VyIHlldCksCi8vIHdoZXJlIHRoZXJlIGFyZSBtdWx0aXBsZSBhc3luY2hyb25vdXMgc3RlcHMgYW5kIHRoZSBQeXRob24gc2lkZSBpcyBnb2luZwovLyB0byBwb2xsIGZvciBjb21wbGV0aW9uIG9mIGVhY2ggc3RlcC4KLy8gVGhpcyB1c2VzIGEgUHJvbWlzZSB0byBibG9jayB0aGUgcHl0aG9uIHNpZGUgb24gY29tcGxldGlvbiBvZiBlYWNoIHN0ZXAsCi8vIHRoZW4gcGFzc2VzIHRoZSByZXN1bHQgb2YgdGhlIHByZXZpb3VzIHN0ZXAgYXMgdGhlIGlucHV0IHRvIHRoZSBuZXh0IHN0ZXAuCmZ1bmN0aW9uIF91cGxvYWRGaWxlc0NvbnRpbnVlKG91dHB1dElkKSB7CiAgY29uc3Qgb3V0cHV0RWxlbWVudCA9IGRvY3VtZW50LmdldEVsZW1lbnRCeUlkKG91dHB1dElkKTsKICBjb25zdCBzdGVwcyA9IG91dHB1dEVsZW1lbnQuc3RlcHM7CgogIGNvbnN0IG5leHQgPSBzdGVwcy5uZXh0KG91dHB1dEVsZW1lbnQubGFzdFByb21pc2VWYWx1ZSk7CiAgcmV0dXJuIFByb21pc2UucmVzb2x2ZShuZXh0LnZhbHVlLnByb21pc2UpLnRoZW4oKHZhbHVlKSA9PiB7CiAgICAvLyBDYWNoZSB0aGUgbGFzdCBwcm9taXNlIHZhbHVlIHRvIG1ha2UgaXQgYXZhaWxhYmxlIHRvIHRoZSBuZXh0CiAgICAvLyBzdGVwIG9mIHRoZSBnZW5lcmF0b3IuCiAgICBvdXRwdXRFbGVtZW50Lmxhc3RQcm9taXNlVmFsdWUgPSB2YWx1ZTsKICAgIHJldHVybiBuZXh0LnZhbHVlLnJlc3BvbnNlOwogIH0pOwp9CgovKioKICogR2VuZXJhdG9yIGZ1bmN0aW9uIHdoaWNoIGlzIGNhbGxlZCBiZXR3ZWVuIGVhY2ggYXN5bmMgc3RlcCBvZiB0aGUgdXBsb2FkCiAqIHByb2Nlc3MuCiAqIEBwYXJhbSB7c3RyaW5nfSBpbnB1dElkIEVsZW1lbnQgSUQgb2YgdGhlIGlucHV0IGZpbGUgcGlja2VyIGVsZW1lbnQuCiAqIEBwYXJhbSB7c3RyaW5nfSBvdXRwdXRJZCBFbGVtZW50IElEIG9mIHRoZSBvdXRwdXQgZGlzcGxheS4KICogQHJldHVybiB7IUl0ZXJhYmxlPCFPYmplY3Q+fSBJdGVyYWJsZSBvZiBuZXh0IHN0ZXBzLgogKi8KZnVuY3Rpb24qIHVwbG9hZEZpbGVzU3RlcChpbnB1dElkLCBvdXRwdXRJZCkgewogIGNvbnN0IGlucHV0RWxlbWVudCA9IGRvY3VtZW50LmdldEVsZW1lbnRCeUlkKGlucHV0SWQpOwogIGlucHV0RWxlbWVudC5kaXNhYmxlZCA9IGZhbHNlOwoKICBjb25zdCBvdXRwdXRFbGVtZW50ID0gZG9jdW1lbnQuZ2V0RWxlbWVudEJ5SWQob3V0cHV0SWQpOwogIG91dHB1dEVsZW1lbnQuaW5uZXJIVE1MID0gJyc7CgogIGNvbnN0IHBpY2tlZFByb21pc2UgPSBuZXcgUHJvbWlzZSgocmVzb2x2ZSkgPT4gewogICAgaW5wdXRFbGVtZW50LmFkZEV2ZW50TGlzdGVuZXIoJ2NoYW5nZScsIChlKSA9PiB7CiAgICAgIHJlc29sdmUoZS50YXJnZXQuZmlsZXMpOwogICAgfSk7CiAgfSk7CgogIGNvbnN0IGNhbmNlbCA9IGRvY3VtZW50LmNyZWF0ZUVsZW1lbnQoJ2J1dHRvbicpOwogIGlucHV0RWxlbWVudC5wYXJlbnRFbGVtZW50LmFwcGVuZENoaWxkKGNhbmNlbCk7CiAgY2FuY2VsLnRleHRDb250ZW50ID0gJ0NhbmNlbCB1cGxvYWQnOwogIGNvbnN0IGNhbmNlbFByb21pc2UgPSBuZXcgUHJvbWlzZSgocmVzb2x2ZSkgPT4gewogICAgY2FuY2VsLm9uY2xpY2sgPSAoKSA9PiB7CiAgICAgIHJlc29sdmUobnVsbCk7CiAgICB9OwogIH0pOwoKICAvLyBXYWl0IGZvciB0aGUgdXNlciB0byBwaWNrIHRoZSBmaWxlcy4KICBjb25zdCBmaWxlcyA9IHlpZWxkIHsKICAgIHByb21pc2U6IFByb21pc2UucmFjZShbcGlja2VkUHJvbWlzZSwgY2FuY2VsUHJvbWlzZV0pLAogICAgcmVzcG9uc2U6IHsKICAgICAgYWN0aW9uOiAnc3RhcnRpbmcnLAogICAgfQogIH07CgogIGNhbmNlbC5yZW1vdmUoKTsKCiAgLy8gRGlzYWJsZSB0aGUgaW5wdXQgZWxlbWVudCBzaW5jZSBmdXJ0aGVyIHBpY2tzIGFyZSBub3QgYWxsb3dlZC4KICBpbnB1dEVsZW1lbnQuZGlzYWJsZWQgPSB0cnVlOwoKICBpZiAoIWZpbGVzKSB7CiAgICByZXR1cm4gewogICAgICByZXNwb25zZTogewogICAgICAgIGFjdGlvbjogJ2NvbXBsZXRlJywKICAgICAgfQogICAgfTsKICB9CgogIGZvciAoY29uc3QgZmlsZSBvZiBmaWxlcykgewogICAgY29uc3QgbGkgPSBkb2N1bWVudC5jcmVhdGVFbGVtZW50KCdsaScpOwogICAgbGkuYXBwZW5kKHNwYW4oZmlsZS5uYW1lLCB7Zm9udFdlaWdodDogJ2JvbGQnfSkpOwogICAgbGkuYXBwZW5kKHNwYW4oCiAgICAgICAgYCgke2ZpbGUudHlwZSB8fCAnbi9hJ30pIC0gJHtmaWxlLnNpemV9IGJ5dGVzLCBgICsKICAgICAgICBgbGFzdCBtb2RpZmllZDogJHsKICAgICAgICAgICAgZmlsZS5sYXN0TW9kaWZpZWREYXRlID8gZmlsZS5sYXN0TW9kaWZpZWREYXRlLnRvTG9jYWxlRGF0ZVN0cmluZygpIDoKICAgICAgICAgICAgICAgICAgICAgICAgICAgICAgICAgICAgJ24vYSd9IC0gYCkpOwogICAgY29uc3QgcGVyY2VudCA9IHNwYW4oJzAlIGRvbmUnKTsKICAgIGxpLmFwcGVuZENoaWxkKHBlcmNlbnQpOwoKICAgIG91dHB1dEVsZW1lbnQuYXBwZW5kQ2hpbGQobGkpOwoKICAgIGNvbnN0IGZpbGVEYXRhUHJvbWlzZSA9IG5ldyBQcm9taXNlKChyZXNvbHZlKSA9PiB7CiAgICAgIGNvbnN0IHJlYWRlciA9IG5ldyBGaWxlUmVhZGVyKCk7CiAgICAgIHJlYWRlci5vbmxvYWQgPSAoZSkgPT4gewogICAgICAgIHJlc29sdmUoZS50YXJnZXQucmVzdWx0KTsKICAgICAgfTsKICAgICAgcmVhZGVyLnJlYWRBc0FycmF5QnVmZmVyKGZpbGUpOwogICAgfSk7CiAgICAvLyBXYWl0IGZvciB0aGUgZGF0YSB0byBiZSByZWFkeS4KICAgIGxldCBmaWxlRGF0YSA9IHlpZWxkIHsKICAgICAgcHJvbWlzZTogZmlsZURhdGFQcm9taXNlLAogICAgICByZXNwb25zZTogewogICAgICAgIGFjdGlvbjogJ2NvbnRpbnVlJywKICAgICAgfQogICAgfTsKCiAgICAvLyBVc2UgYSBjaHVua2VkIHNlbmRpbmcgdG8gYXZvaWQgbWVzc2FnZSBzaXplIGxpbWl0cy4gU2VlIGIvNjIxMTU2NjAuCiAgICBsZXQgcG9zaXRpb24gPSAwOwogICAgd2hpbGUgKHBvc2l0aW9uIDwgZmlsZURhdGEuYnl0ZUxlbmd0aCkgewogICAgICBjb25zdCBsZW5ndGggPSBNYXRoLm1pbihmaWxlRGF0YS5ieXRlTGVuZ3RoIC0gcG9zaXRpb24sIE1BWF9QQVlMT0FEX1NJWkUpOwogICAgICBjb25zdCBjaHVuayA9IG5ldyBVaW50OEFycmF5KGZpbGVEYXRhLCBwb3NpdGlvbiwgbGVuZ3RoKTsKICAgICAgcG9zaXRpb24gKz0gbGVuZ3RoOwoKICAgICAgY29uc3QgYmFzZTY0ID0gYnRvYShTdHJpbmcuZnJvbUNoYXJDb2RlLmFwcGx5KG51bGwsIGNodW5rKSk7CiAgICAgIHlpZWxkIHsKICAgICAgICByZXNwb25zZTogewogICAgICAgICAgYWN0aW9uOiAnYXBwZW5kJywKICAgICAgICAgIGZpbGU6IGZpbGUubmFtZSwKICAgICAgICAgIGRhdGE6IGJhc2U2NCwKICAgICAgICB9LAogICAgICB9OwogICAgICBwZXJjZW50LnRleHRDb250ZW50ID0KICAgICAgICAgIGAke01hdGgucm91bmQoKHBvc2l0aW9uIC8gZmlsZURhdGEuYnl0ZUxlbmd0aCkgKiAxMDApfSUgZG9uZWA7CiAgICB9CiAgfQoKICAvLyBBbGwgZG9uZS4KICB5aWVsZCB7CiAgICByZXNwb25zZTogewogICAgICBhY3Rpb246ICdjb21wbGV0ZScsCiAgICB9CiAgfTsKfQoKc2NvcGUuZ29vZ2xlID0gc2NvcGUuZ29vZ2xlIHx8IHt9OwpzY29wZS5nb29nbGUuY29sYWIgPSBzY29wZS5nb29nbGUuY29sYWIgfHwge307CnNjb3BlLmdvb2dsZS5jb2xhYi5fZmlsZXMgPSB7CiAgX3VwbG9hZEZpbGVzLAogIF91cGxvYWRGaWxlc0NvbnRpbnVlLAp9Owp9KShzZWxmKTsK",
              "ok": true,
              "headers": [
                [
                  "content-type",
                  "application/javascript"
                ]
              ],
              "status": 200,
              "status_text": "OK"
            }
          },
          "base_uri": "https://localhost:8080/",
          "height": 75
        },
        "outputId": "87fbca9f-a2ee-4473-cf01-54122bcef1f6"
      },
      "source": [
        "uploaded_train = files.upload()"
      ],
      "execution_count": null,
      "outputs": [
        {
          "output_type": "display_data",
          "data": {
            "text/html": [
              "\n",
              "     <input type=\"file\" id=\"files-51d87316-10fd-4564-95b4-7ebbf5d7f10e\" name=\"files[]\" multiple disabled\n",
              "        style=\"border:none\" />\n",
              "     <output id=\"result-51d87316-10fd-4564-95b4-7ebbf5d7f10e\">\n",
              "      Upload widget is only available when the cell has been executed in the\n",
              "      current browser session. Please rerun this cell to enable.\n",
              "      </output>\n",
              "      <script src=\"/nbextensions/google.colab/files.js\"></script> "
            ],
            "text/plain": [
              "<IPython.core.display.HTML object>"
            ]
          },
          "metadata": {
            "tags": []
          }
        },
        {
          "output_type": "stream",
          "text": [
            "Saving train.csv to train.csv\n"
          ],
          "name": "stdout"
        }
      ]
    },
    {
      "cell_type": "code",
      "metadata": {
        "id": "NT7isnPHY5nk",
        "colab_type": "code",
        "colab": {
          "base_uri": "https://localhost:8080/",
          "height": 35
        },
        "outputId": "e242aed3-e480-4f7e-d498-71aad600c5cf"
      },
      "source": [
        "df_train = pd.read_csv(io.StringIO(uploaded_train['train.csv'].decode('utf-8')), sep = ',')\n",
        "print(\"Shape of data->\", df_train.shape)"
      ],
      "execution_count": null,
      "outputs": [
        {
          "output_type": "stream",
          "text": [
            "Shape of data-> (7613, 5)\n"
          ],
          "name": "stdout"
        }
      ]
    },
    {
      "cell_type": "code",
      "metadata": {
        "id": "Frf7uupciidz",
        "colab_type": "code",
        "colab": {
          "resources": {
            "http://localhost:8080/nbextensions/google.colab/files.js": {
              "data": "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",
              "ok": true,
              "headers": [
                [
                  "content-type",
                  "application/javascript"
                ]
              ],
              "status": 200,
              "status_text": "OK"
            }
          },
          "base_uri": "https://localhost:8080/",
          "height": 75
        },
        "outputId": "312d1142-46a8-408e-9255-1a57405ef5f3"
      },
      "source": [
        "uploaded_test = files.upload()"
      ],
      "execution_count": null,
      "outputs": [
        {
          "output_type": "display_data",
          "data": {
            "text/html": [
              "\n",
              "     <input type=\"file\" id=\"files-2600e754-6e07-4e99-90f9-5ff7b7968e66\" name=\"files[]\" multiple disabled\n",
              "        style=\"border:none\" />\n",
              "     <output id=\"result-2600e754-6e07-4e99-90f9-5ff7b7968e66\">\n",
              "      Upload widget is only available when the cell has been executed in the\n",
              "      current browser session. Please rerun this cell to enable.\n",
              "      </output>\n",
              "      <script src=\"/nbextensions/google.colab/files.js\"></script> "
            ],
            "text/plain": [
              "<IPython.core.display.HTML object>"
            ]
          },
          "metadata": {
            "tags": []
          }
        },
        {
          "output_type": "stream",
          "text": [
            "Saving test.csv to test.csv\n"
          ],
          "name": "stdout"
        }
      ]
    },
    {
      "cell_type": "code",
      "metadata": {
        "id": "nHBPUOMYiYOP",
        "colab_type": "code",
        "colab": {
          "base_uri": "https://localhost:8080/",
          "height": 35
        },
        "outputId": "158473b5-8c08-4bf7-92f0-fb2bd0c8421e"
      },
      "source": [
        "df_test = pd.read_csv(io.StringIO(uploaded_test['test.csv'].decode('utf-8')), sep = ',')\n",
        "print(\"Shape of data->\", df_test.shape)"
      ],
      "execution_count": null,
      "outputs": [
        {
          "output_type": "stream",
          "text": [
            "Shape of data-> (3263, 4)\n"
          ],
          "name": "stdout"
        }
      ]
    },
    {
      "cell_type": "code",
      "metadata": {
        "colab_type": "code",
        "id": "-p2VshLuL1dD",
        "colab": {}
      },
      "source": [
        "# Defining the text cleaning function\n",
        "\n",
        "#load stopwords from the nltk for stopword removal\n",
        "from nltk.corpus import stopwords\n",
        "stopwords = set(stopwords.words('english'))\n",
        "\n",
        "def clean(tweet):\n",
        "  # Expand Contractions \n",
        "  tweet = re.sub(r\"he's\", \"he is\", tweet)\n",
        "  tweet = re.sub(r\"there's\", \"there is\", tweet)\n",
        "  tweet = re.sub(r\"We're\", \"We are\", tweet)\n",
        "  tweet = re.sub(r\"That's\", \"That is\", tweet)\n",
        "  tweet = re.sub(r\"won't\", \"will not\", tweet)\n",
        "  tweet = re.sub(r\"they're\", \"they are\", tweet)\n",
        "  tweet = re.sub(r\"Can't\", \"Cannot\", tweet)\n",
        "  tweet = re.sub(r\"wasn't\", \"was not\", tweet)\n",
        "  tweet = re.sub(r\"don\\x89Ûªt\", \"do not\", tweet)\n",
        "  tweet = re.sub(r\"aren't\", \"are not\", tweet)\n",
        "  tweet = re.sub(r\"isn't\", \"is not\", tweet)\n",
        "  tweet = re.sub(r\"What's\", \"What is\", tweet)\n",
        "  tweet = re.sub(r\"haven't\", \"have not\", tweet)\n",
        "  tweet = re.sub(r\"hasn't\", \"has not\", tweet)\n",
        "  tweet = re.sub(r\"There's\", \"There is\", tweet)\n",
        "  tweet = re.sub(r\"He's\", \"He is\", tweet)\n",
        "  tweet = re.sub(r\"It's\", \"It is\", tweet)\n",
        "  tweet = re.sub(r\"You're\", \"You are\", tweet)\n",
        "  tweet = re.sub(r\"I'M\", \"I am\", tweet)\n",
        "  tweet = re.sub(r\"shouldn't\", \"should not\", tweet)\n",
        "  tweet = re.sub(r\"wouldn't\", \"would not\", tweet)\n",
        "  tweet = re.sub(r\"i'm\", \"I am\", tweet)\n",
        "  tweet = re.sub(r\"I\\x89Ûªm\", \"I am\", tweet)\n",
        "  tweet = re.sub(r\"I'm\", \"I am\", tweet)\n",
        "  tweet = re.sub(r\"Isn't\", \"is not\", tweet)\n",
        "  tweet = re.sub(r\"Here's\", \"Here is\", tweet)\n",
        "  tweet = re.sub(r\"you've\", \"you have\", tweet)\n",
        "  tweet = re.sub(r\"you\\x89Ûªve\", \"you have\", tweet)\n",
        "  tweet = re.sub(r\"we're\", \"we are\", tweet)\n",
        "  tweet = re.sub(r\"what's\", \"what is\", tweet)\n",
        "  tweet = re.sub(r\"couldn't\", \"could not\", tweet)\n",
        "  tweet = re.sub(r\"we've\", \"we have\", tweet)\n",
        "  tweet = re.sub(r\"it\\x89Ûªs\", \"it is\", tweet)\n",
        "  tweet = re.sub(r\"doesn\\x89Ûªt\", \"does not\", tweet)\n",
        "  tweet = re.sub(r\"It\\x89Ûªs\", \"It is\", tweet)\n",
        "  tweet = re.sub(r\"Here\\x89Ûªs\", \"Here is\", tweet)\n",
        "  tweet = re.sub(r\"who's\", \"who is\", tweet)\n",
        "  tweet = re.sub(r\"I\\x89Ûªve\", \"I have\", tweet)\n",
        "  tweet = re.sub(r\"y'all\", \"you all\", tweet)\n",
        "  tweet = re.sub(r\"can\\x89Ûªt\", \"cannot\", tweet)\n",
        "  tweet = re.sub(r\"would've\", \"would have\", tweet)\n",
        "  tweet = re.sub(r\"it'll\", \"it will\", tweet)\n",
        "  tweet = re.sub(r\"we'll\", \"we will\", tweet)\n",
        "  tweet = re.sub(r\"wouldn\\x89Ûªt\", \"would not\", tweet)\n",
        "  tweet = re.sub(r\"We've\", \"We have\", tweet)\n",
        "  tweet = re.sub(r\"he'll\", \"he will\", tweet)\n",
        "  tweet = re.sub(r\"Y'all\", \"You all\", tweet)\n",
        "  tweet = re.sub(r\"Weren't\", \"Were not\", tweet)\n",
        "  tweet = re.sub(r\"Didn't\", \"Did not\", tweet)\n",
        "  tweet = re.sub(r\"they'll\", \"they will\", tweet)\n",
        "  tweet = re.sub(r\"they'd\", \"they would\", tweet)\n",
        "  tweet = re.sub(r\"DON'T\", \"DO NOT\", tweet)\n",
        "  tweet = re.sub(r\"That\\x89Ûªs\", \"That is\", tweet)\n",
        "  tweet = re.sub(r\"they've\", \"they have\", tweet)\n",
        "  tweet = re.sub(r\"i'd\", \"I would\", tweet)\n",
        "  tweet = re.sub(r\"should've\", \"should have\", tweet)\n",
        "  tweet = re.sub(r\"You\\x89Ûªre\", \"You are\", tweet)\n",
        "  tweet = re.sub(r\"where's\", \"where is\", tweet)\n",
        "  tweet = re.sub(r\"Don\\x89Ûªt\", \"Do not\", tweet)\n",
        "  tweet = re.sub(r\"we'd\", \"we would\", tweet)\n",
        "  tweet = re.sub(r\"i'll\", \"I will\", tweet)\n",
        "  tweet = re.sub(r\"weren't\", \"were not\", tweet)\n",
        "  tweet = re.sub(r\"They're\", \"They are\", tweet)\n",
        "  tweet = re.sub(r\"Can\\x89Ûªt\", \"Cannot\", tweet)\n",
        "  tweet = re.sub(r\"you\\x89Ûªll\", \"you will\", tweet)\n",
        "  tweet = re.sub(r\"I\\x89Ûªd\", \"I would\", tweet)\n",
        "  tweet = re.sub(r\"let's\", \"let us\", tweet)\n",
        "  tweet = re.sub(r\"it's\", \"it is\", tweet)\n",
        "  tweet = re.sub(r\"can't\", \"cannot\", tweet)\n",
        "  tweet = re.sub(r\"don't\", \"do not\", tweet)\n",
        "  tweet = re.sub(r\"you're\", \"you are\", tweet)\n",
        "  tweet = re.sub(r\"i've\", \"I have\", tweet)\n",
        "  tweet = re.sub(r\"that's\", \"that is\", tweet)\n",
        "  tweet = re.sub(r\"i'll\", \"I will\", tweet)\n",
        "  tweet = re.sub(r\"doesn't\", \"does not\", tweet)\n",
        "  tweet = re.sub(r\"i'd\", \"I would\", tweet)\n",
        "  tweet = re.sub(r\"didn't\", \"did not\", tweet)\n",
        "  tweet = re.sub(r\"ain't\", \"am not\", tweet)\n",
        "  tweet = re.sub(r\"you'll\", \"you will\", tweet)\n",
        "  tweet = re.sub(r\"I've\", \"I have\", tweet)\n",
        "  tweet = re.sub(r\"Don't\", \"do not\", tweet)\n",
        "  tweet = re.sub(r\"I'll\", \"I will\", tweet)\n",
        "  tweet = re.sub(r\"I'd\", \"I would\", tweet)\n",
        "  tweet = re.sub(r\"Let's\", \"Let us\", tweet)\n",
        "  tweet = re.sub(r\"you'd\", \"You would\", tweet)\n",
        "  tweet = re.sub(r\"It's\", \"It is\", tweet)\n",
        "  tweet = re.sub(r\"Ain't\", \"am not\", tweet)\n",
        "  tweet = re.sub(r\"Haven't\", \"Have not\", tweet)\n",
        "  tweet = re.sub(r\"Could've\", \"Could have\", tweet)\n",
        "  tweet = re.sub(r\"youve\", \"you have\", tweet)  \n",
        "  tweet = re.sub(r\"donå«t\", \"do not\", tweet)\n",
        "  \n",
        "  # Character entity references\n",
        "  tweet = re.sub(r\"&gt;\", \">\", tweet)\n",
        "  tweet = re.sub(r\"&lt;\", \"<\", tweet)\n",
        "  tweet = re.sub(r\"&amp;\", \"&\", tweet)\n",
        "  \n",
        "  #Lowercase\n",
        "  tweet = tweet.lower()\n",
        "\n",
        "  #Remove URLS\n",
        "  tweet = re.sub(r\"https?:\\/\\/t.co\\/[A-Za-z0-9]+\", \"\", tweet)\n",
        "\n",
        "  # Remove punctuation\n",
        "  tweet = re.sub('[%s]' % re.escape(string.punctuation), ' ', tweet)\n",
        "\n",
        "  #Remove digits\n",
        "  tweet = re.sub('\\w*\\d\\w*','', tweet)\n",
        "\n",
        "  # Tokenize\n",
        "  tweet = word_tokenize(tweet)\n",
        "  \n",
        "  #Remove stopwords\n",
        "  tweet = [word for word in tweet if word not in stopwords]\n",
        "\n",
        "  #join back to string\n",
        "  separator = ','\n",
        "  tweet = separator.join(tweet)\n",
        "  tweet = tweet.replace(\",\", \" \")\n",
        "\n",
        "  return tweet"
      ],
      "execution_count": null,
      "outputs": []
    },
    {
      "cell_type": "code",
      "metadata": {
        "id": "BlhVNlRJJizZ",
        "colab_type": "code",
        "colab": {
          "base_uri": "https://localhost:8080/",
          "height": 1000
        },
        "outputId": "db798474-022a-4d53-84c6-4e970ae398b2"
      },
      "source": [
        "# Apply function to the training tweets and check first columns\n",
        "df_train['text_cleaned'] = df_train['text'].apply(lambda x: clean(x))\n",
        "df_train.head(30)"
      ],
      "execution_count": null,
      "outputs": [
        {
          "output_type": "execute_result",
          "data": {
            "text/html": [
              "<div>\n",
              "<style scoped>\n",
              "    .dataframe tbody tr th:only-of-type {\n",
              "        vertical-align: middle;\n",
              "    }\n",
              "\n",
              "    .dataframe tbody tr th {\n",
              "        vertical-align: top;\n",
              "    }\n",
              "\n",
              "    .dataframe thead th {\n",
              "        text-align: right;\n",
              "    }\n",
              "</style>\n",
              "<table border=\"1\" class=\"dataframe\">\n",
              "  <thead>\n",
              "    <tr style=\"text-align: right;\">\n",
              "      <th></th>\n",
              "      <th>id</th>\n",
              "      <th>keyword</th>\n",
              "      <th>location</th>\n",
              "      <th>text</th>\n",
              "      <th>target</th>\n",
              "      <th>text_cleaned</th>\n",
              "    </tr>\n",
              "  </thead>\n",
              "  <tbody>\n",
              "    <tr>\n",
              "      <th>0</th>\n",
              "      <td>1</td>\n",
              "      <td>NaN</td>\n",
              "      <td>NaN</td>\n",
              "      <td>Our Deeds are the Reason of this #earthquake M...</td>\n",
              "      <td>1</td>\n",
              "      <td>deeds reason earthquake may allah forgive us</td>\n",
              "    </tr>\n",
              "    <tr>\n",
              "      <th>1</th>\n",
              "      <td>4</td>\n",
              "      <td>NaN</td>\n",
              "      <td>NaN</td>\n",
              "      <td>Forest fire near La Ronge Sask. Canada</td>\n",
              "      <td>1</td>\n",
              "      <td>forest fire near la ronge sask canada</td>\n",
              "    </tr>\n",
              "    <tr>\n",
              "      <th>2</th>\n",
              "      <td>5</td>\n",
              "      <td>NaN</td>\n",
              "      <td>NaN</td>\n",
              "      <td>All residents asked to 'shelter in place' are ...</td>\n",
              "      <td>1</td>\n",
              "      <td>residents asked shelter place notified officer...</td>\n",
              "    </tr>\n",
              "    <tr>\n",
              "      <th>3</th>\n",
              "      <td>6</td>\n",
              "      <td>NaN</td>\n",
              "      <td>NaN</td>\n",
              "      <td>13,000 people receive #wildfires evacuation or...</td>\n",
              "      <td>1</td>\n",
              "      <td>people receive wildfires evacuation orders cal...</td>\n",
              "    </tr>\n",
              "    <tr>\n",
              "      <th>4</th>\n",
              "      <td>7</td>\n",
              "      <td>NaN</td>\n",
              "      <td>NaN</td>\n",
              "      <td>Just got sent this photo from Ruby #Alaska as ...</td>\n",
              "      <td>1</td>\n",
              "      <td>got sent photo ruby alaska smoke wildfires pou...</td>\n",
              "    </tr>\n",
              "    <tr>\n",
              "      <th>5</th>\n",
              "      <td>8</td>\n",
              "      <td>NaN</td>\n",
              "      <td>NaN</td>\n",
              "      <td>#RockyFire Update =&gt; California Hwy. 20 closed...</td>\n",
              "      <td>1</td>\n",
              "      <td>rockyfire update california hwy closed directi...</td>\n",
              "    </tr>\n",
              "    <tr>\n",
              "      <th>6</th>\n",
              "      <td>10</td>\n",
              "      <td>NaN</td>\n",
              "      <td>NaN</td>\n",
              "      <td>#flood #disaster Heavy rain causes flash flood...</td>\n",
              "      <td>1</td>\n",
              "      <td>flood disaster heavy rain causes flash floodin...</td>\n",
              "    </tr>\n",
              "    <tr>\n",
              "      <th>7</th>\n",
              "      <td>13</td>\n",
              "      <td>NaN</td>\n",
              "      <td>NaN</td>\n",
              "      <td>I'm on top of the hill and I can see a fire in...</td>\n",
              "      <td>1</td>\n",
              "      <td>top hill see fire woods</td>\n",
              "    </tr>\n",
              "    <tr>\n",
              "      <th>8</th>\n",
              "      <td>14</td>\n",
              "      <td>NaN</td>\n",
              "      <td>NaN</td>\n",
              "      <td>There's an emergency evacuation happening now ...</td>\n",
              "      <td>1</td>\n",
              "      <td>emergency evacuation happening building across...</td>\n",
              "    </tr>\n",
              "    <tr>\n",
              "      <th>9</th>\n",
              "      <td>15</td>\n",
              "      <td>NaN</td>\n",
              "      <td>NaN</td>\n",
              "      <td>I'm afraid that the tornado is coming to our a...</td>\n",
              "      <td>1</td>\n",
              "      <td>afraid tornado coming area</td>\n",
              "    </tr>\n",
              "    <tr>\n",
              "      <th>10</th>\n",
              "      <td>16</td>\n",
              "      <td>NaN</td>\n",
              "      <td>NaN</td>\n",
              "      <td>Three people died from the heat wave so far</td>\n",
              "      <td>1</td>\n",
              "      <td>three people died heat wave far</td>\n",
              "    </tr>\n",
              "    <tr>\n",
              "      <th>11</th>\n",
              "      <td>17</td>\n",
              "      <td>NaN</td>\n",
              "      <td>NaN</td>\n",
              "      <td>Haha South Tampa is getting flooded hah- WAIT ...</td>\n",
              "      <td>1</td>\n",
              "      <td>haha south tampa getting flooded hah wait seco...</td>\n",
              "    </tr>\n",
              "    <tr>\n",
              "      <th>12</th>\n",
              "      <td>18</td>\n",
              "      <td>NaN</td>\n",
              "      <td>NaN</td>\n",
              "      <td>#raining #flooding #Florida #TampaBay #Tampa 1...</td>\n",
              "      <td>1</td>\n",
              "      <td>raining flooding florida tampabay tampa days l...</td>\n",
              "    </tr>\n",
              "    <tr>\n",
              "      <th>13</th>\n",
              "      <td>19</td>\n",
              "      <td>NaN</td>\n",
              "      <td>NaN</td>\n",
              "      <td>#Flood in Bago Myanmar #We arrived Bago</td>\n",
              "      <td>1</td>\n",
              "      <td>flood bago myanmar arrived bago</td>\n",
              "    </tr>\n",
              "    <tr>\n",
              "      <th>14</th>\n",
              "      <td>20</td>\n",
              "      <td>NaN</td>\n",
              "      <td>NaN</td>\n",
              "      <td>Damage to school bus on 80 in multi car crash ...</td>\n",
              "      <td>1</td>\n",
              "      <td>damage school bus multi car crash breaking</td>\n",
              "    </tr>\n",
              "    <tr>\n",
              "      <th>15</th>\n",
              "      <td>23</td>\n",
              "      <td>NaN</td>\n",
              "      <td>NaN</td>\n",
              "      <td>What's up man?</td>\n",
              "      <td>0</td>\n",
              "      <td>man</td>\n",
              "    </tr>\n",
              "    <tr>\n",
              "      <th>16</th>\n",
              "      <td>24</td>\n",
              "      <td>NaN</td>\n",
              "      <td>NaN</td>\n",
              "      <td>I love fruits</td>\n",
              "      <td>0</td>\n",
              "      <td>love fruits</td>\n",
              "    </tr>\n",
              "    <tr>\n",
              "      <th>17</th>\n",
              "      <td>25</td>\n",
              "      <td>NaN</td>\n",
              "      <td>NaN</td>\n",
              "      <td>Summer is lovely</td>\n",
              "      <td>0</td>\n",
              "      <td>summer lovely</td>\n",
              "    </tr>\n",
              "    <tr>\n",
              "      <th>18</th>\n",
              "      <td>26</td>\n",
              "      <td>NaN</td>\n",
              "      <td>NaN</td>\n",
              "      <td>My car is so fast</td>\n",
              "      <td>0</td>\n",
              "      <td>car fast</td>\n",
              "    </tr>\n",
              "    <tr>\n",
              "      <th>19</th>\n",
              "      <td>28</td>\n",
              "      <td>NaN</td>\n",
              "      <td>NaN</td>\n",
              "      <td>What a goooooooaaaaaal!!!!!!</td>\n",
              "      <td>0</td>\n",
              "      <td>goooooooaaaaaal</td>\n",
              "    </tr>\n",
              "    <tr>\n",
              "      <th>20</th>\n",
              "      <td>31</td>\n",
              "      <td>NaN</td>\n",
              "      <td>NaN</td>\n",
              "      <td>this is ridiculous....</td>\n",
              "      <td>0</td>\n",
              "      <td>ridiculous</td>\n",
              "    </tr>\n",
              "    <tr>\n",
              "      <th>21</th>\n",
              "      <td>32</td>\n",
              "      <td>NaN</td>\n",
              "      <td>NaN</td>\n",
              "      <td>London is cool ;)</td>\n",
              "      <td>0</td>\n",
              "      <td>london cool</td>\n",
              "    </tr>\n",
              "    <tr>\n",
              "      <th>22</th>\n",
              "      <td>33</td>\n",
              "      <td>NaN</td>\n",
              "      <td>NaN</td>\n",
              "      <td>Love skiing</td>\n",
              "      <td>0</td>\n",
              "      <td>love skiing</td>\n",
              "    </tr>\n",
              "    <tr>\n",
              "      <th>23</th>\n",
              "      <td>34</td>\n",
              "      <td>NaN</td>\n",
              "      <td>NaN</td>\n",
              "      <td>What a wonderful day!</td>\n",
              "      <td>0</td>\n",
              "      <td>wonderful day</td>\n",
              "    </tr>\n",
              "    <tr>\n",
              "      <th>24</th>\n",
              "      <td>36</td>\n",
              "      <td>NaN</td>\n",
              "      <td>NaN</td>\n",
              "      <td>LOOOOOOL</td>\n",
              "      <td>0</td>\n",
              "      <td>looooool</td>\n",
              "    </tr>\n",
              "    <tr>\n",
              "      <th>25</th>\n",
              "      <td>37</td>\n",
              "      <td>NaN</td>\n",
              "      <td>NaN</td>\n",
              "      <td>No way...I can't eat that shit</td>\n",
              "      <td>0</td>\n",
              "      <td>way eat shit</td>\n",
              "    </tr>\n",
              "    <tr>\n",
              "      <th>26</th>\n",
              "      <td>38</td>\n",
              "      <td>NaN</td>\n",
              "      <td>NaN</td>\n",
              "      <td>Was in NYC last week!</td>\n",
              "      <td>0</td>\n",
              "      <td>nyc last week</td>\n",
              "    </tr>\n",
              "    <tr>\n",
              "      <th>27</th>\n",
              "      <td>39</td>\n",
              "      <td>NaN</td>\n",
              "      <td>NaN</td>\n",
              "      <td>Love my girlfriend</td>\n",
              "      <td>0</td>\n",
              "      <td>love girlfriend</td>\n",
              "    </tr>\n",
              "    <tr>\n",
              "      <th>28</th>\n",
              "      <td>40</td>\n",
              "      <td>NaN</td>\n",
              "      <td>NaN</td>\n",
              "      <td>Cooool :)</td>\n",
              "      <td>0</td>\n",
              "      <td>cooool</td>\n",
              "    </tr>\n",
              "    <tr>\n",
              "      <th>29</th>\n",
              "      <td>41</td>\n",
              "      <td>NaN</td>\n",
              "      <td>NaN</td>\n",
              "      <td>Do you like pasta?</td>\n",
              "      <td>0</td>\n",
              "      <td>like pasta</td>\n",
              "    </tr>\n",
              "  </tbody>\n",
              "</table>\n",
              "</div>"
            ],
            "text/plain": [
              "    id keyword  ... target                                       text_cleaned\n",
              "0    1     NaN  ...      1       deeds reason earthquake may allah forgive us\n",
              "1    4     NaN  ...      1              forest fire near la ronge sask canada\n",
              "2    5     NaN  ...      1  residents asked shelter place notified officer...\n",
              "3    6     NaN  ...      1  people receive wildfires evacuation orders cal...\n",
              "4    7     NaN  ...      1  got sent photo ruby alaska smoke wildfires pou...\n",
              "5    8     NaN  ...      1  rockyfire update california hwy closed directi...\n",
              "6   10     NaN  ...      1  flood disaster heavy rain causes flash floodin...\n",
              "7   13     NaN  ...      1                            top hill see fire woods\n",
              "8   14     NaN  ...      1  emergency evacuation happening building across...\n",
              "9   15     NaN  ...      1                         afraid tornado coming area\n",
              "10  16     NaN  ...      1                    three people died heat wave far\n",
              "11  17     NaN  ...      1  haha south tampa getting flooded hah wait seco...\n",
              "12  18     NaN  ...      1  raining flooding florida tampabay tampa days l...\n",
              "13  19     NaN  ...      1                    flood bago myanmar arrived bago\n",
              "14  20     NaN  ...      1         damage school bus multi car crash breaking\n",
              "15  23     NaN  ...      0                                                man\n",
              "16  24     NaN  ...      0                                        love fruits\n",
              "17  25     NaN  ...      0                                      summer lovely\n",
              "18  26     NaN  ...      0                                           car fast\n",
              "19  28     NaN  ...      0                                    goooooooaaaaaal\n",
              "20  31     NaN  ...      0                                         ridiculous\n",
              "21  32     NaN  ...      0                                        london cool\n",
              "22  33     NaN  ...      0                                        love skiing\n",
              "23  34     NaN  ...      0                                      wonderful day\n",
              "24  36     NaN  ...      0                                           looooool\n",
              "25  37     NaN  ...      0                                       way eat shit\n",
              "26  38     NaN  ...      0                                      nyc last week\n",
              "27  39     NaN  ...      0                                    love girlfriend\n",
              "28  40     NaN  ...      0                                             cooool\n",
              "29  41     NaN  ...      0                                         like pasta\n",
              "\n",
              "[30 rows x 6 columns]"
            ]
          },
          "metadata": {
            "tags": []
          },
          "execution_count": 9
        }
      ]
    },
    {
      "cell_type": "code",
      "metadata": {
        "id": "4-xKGbi9J2ix",
        "colab_type": "code",
        "colab": {
          "base_uri": "https://localhost:8080/",
          "height": 206
        },
        "outputId": "ae5f6f82-ff3b-460e-99ad-83bf32a806c0"
      },
      "source": [
        "#reduce data to two columns: tweet and label\n",
        "\n",
        "df_train_clean = df_train.drop(df_train.columns[[0, 1, 2, 3]], axis=1)\n",
        "df_train_dirty = df_train.drop(df_train.columns[[0, 1, 2, 5]], axis=1)\n",
        "df_train_clean.head(5)\n",
        "#df_train_dirty.head(5)"
      ],
      "execution_count": null,
      "outputs": [
        {
          "output_type": "execute_result",
          "data": {
            "text/html": [
              "<div>\n",
              "<style scoped>\n",
              "    .dataframe tbody tr th:only-of-type {\n",
              "        vertical-align: middle;\n",
              "    }\n",
              "\n",
              "    .dataframe tbody tr th {\n",
              "        vertical-align: top;\n",
              "    }\n",
              "\n",
              "    .dataframe thead th {\n",
              "        text-align: right;\n",
              "    }\n",
              "</style>\n",
              "<table border=\"1\" class=\"dataframe\">\n",
              "  <thead>\n",
              "    <tr style=\"text-align: right;\">\n",
              "      <th></th>\n",
              "      <th>target</th>\n",
              "      <th>text_cleaned</th>\n",
              "    </tr>\n",
              "  </thead>\n",
              "  <tbody>\n",
              "    <tr>\n",
              "      <th>0</th>\n",
              "      <td>1</td>\n",
              "      <td>deeds reason earthquake may allah forgive us</td>\n",
              "    </tr>\n",
              "    <tr>\n",
              "      <th>1</th>\n",
              "      <td>1</td>\n",
              "      <td>forest fire near la ronge sask canada</td>\n",
              "    </tr>\n",
              "    <tr>\n",
              "      <th>2</th>\n",
              "      <td>1</td>\n",
              "      <td>residents asked shelter place notified officer...</td>\n",
              "    </tr>\n",
              "    <tr>\n",
              "      <th>3</th>\n",
              "      <td>1</td>\n",
              "      <td>people receive wildfires evacuation orders cal...</td>\n",
              "    </tr>\n",
              "    <tr>\n",
              "      <th>4</th>\n",
              "      <td>1</td>\n",
              "      <td>got sent photo ruby alaska smoke wildfires pou...</td>\n",
              "    </tr>\n",
              "  </tbody>\n",
              "</table>\n",
              "</div>"
            ],
            "text/plain": [
              "   target                                       text_cleaned\n",
              "0       1       deeds reason earthquake may allah forgive us\n",
              "1       1              forest fire near la ronge sask canada\n",
              "2       1  residents asked shelter place notified officer...\n",
              "3       1  people receive wildfires evacuation orders cal...\n",
              "4       1  got sent photo ruby alaska smoke wildfires pou..."
            ]
          },
          "metadata": {
            "tags": []
          },
          "execution_count": 10
        }
      ]
    },
    {
      "cell_type": "markdown",
      "metadata": {
        "id": "nUUrYaKSp3ac",
        "colab_type": "text"
      },
      "source": [
        "Tensor flow start\n",
        "\n",
        "from this tutorial:\n",
        "https://stackabuse.com/text-classification-with-bert-tokenizer-and-tf-2-0-in-python/"
      ]
    },
    {
      "cell_type": "code",
      "metadata": {
        "id": "ie2Y7qhnqBMo",
        "colab_type": "code",
        "colab": {
          "base_uri": "https://localhost:8080/",
          "height": 536
        },
        "outputId": "bb4f90b2-3dc2-4b12-bb78-1c9bff135b70"
      },
      "source": [
        "#install bert\n",
        "!pip install bert-for-tf2\n",
        "#install unknown package???\n",
        "!pip install sentencepiece"
      ],
      "execution_count": null,
      "outputs": [
        {
          "output_type": "stream",
          "text": [
            "Collecting bert-for-tf2\n",
            "\u001b[?25l  Downloading https://files.pythonhosted.org/packages/35/5c/6439134ecd17b33fe0396fb0b7d6ce3c5a120c42a4516ba0e9a2d6e43b25/bert-for-tf2-0.14.4.tar.gz (40kB)\n",
            "\r\u001b[K     |████████                        | 10kB 16.8MB/s eta 0:00:01\r\u001b[K     |████████████████▏               | 20kB 6.0MB/s eta 0:00:01\r\u001b[K     |████████████████████████▎       | 30kB 5.7MB/s eta 0:00:01\r\u001b[K     |████████████████████████████████| 40kB 3.0MB/s \n",
            "\u001b[?25hCollecting py-params>=0.9.6\n",
            "  Downloading https://files.pythonhosted.org/packages/a4/bf/c1c70d5315a8677310ea10a41cfc41c5970d9b37c31f9c90d4ab98021fd1/py-params-0.9.7.tar.gz\n",
            "Collecting params-flow>=0.8.0\n",
            "  Downloading https://files.pythonhosted.org/packages/a9/95/ff49f5ebd501f142a6f0aaf42bcfd1c192dc54909d1d9eb84ab031d46056/params-flow-0.8.2.tar.gz\n",
            "Requirement already satisfied: numpy in /usr/local/lib/python3.6/dist-packages (from params-flow>=0.8.0->bert-for-tf2) (1.18.5)\n",
            "Requirement already satisfied: tqdm in /usr/local/lib/python3.6/dist-packages (from params-flow>=0.8.0->bert-for-tf2) (4.41.1)\n",
            "Building wheels for collected packages: bert-for-tf2, py-params, params-flow\n",
            "  Building wheel for bert-for-tf2 (setup.py) ... \u001b[?25l\u001b[?25hdone\n",
            "  Created wheel for bert-for-tf2: filename=bert_for_tf2-0.14.4-cp36-none-any.whl size=30114 sha256=04a1da3c5b8cab562c4f981d7b9bbb406cfdeb34ca195315c1ea7f4e9a08beb8\n",
            "  Stored in directory: /root/.cache/pip/wheels/cf/3f/4d/79d7735015a5f523648df90d871ce8e89a7df8185f7703eeab\n",
            "  Building wheel for py-params (setup.py) ... \u001b[?25l\u001b[?25hdone\n",
            "  Created wheel for py-params: filename=py_params-0.9.7-cp36-none-any.whl size=7302 sha256=c9d564bea7ad7071085d6541160e59821a62a513fe9eb66c375998b25f137f4e\n",
            "  Stored in directory: /root/.cache/pip/wheels/67/f5/19/b461849a50aefdf4bab47c4756596e82ee2118b8278e5a1980\n",
            "  Building wheel for params-flow (setup.py) ... \u001b[?25l\u001b[?25hdone\n",
            "  Created wheel for params-flow: filename=params_flow-0.8.2-cp36-none-any.whl size=19473 sha256=225995f2fea903e21c8fa33484273c9b9dfdbbbcea2fcb1ec658ef5925a49b98\n",
            "  Stored in directory: /root/.cache/pip/wheels/08/c8/7f/81c86b9ff2b86e2c477e3914175be03e679e596067dc630c06\n",
            "Successfully built bert-for-tf2 py-params params-flow\n",
            "Installing collected packages: py-params, params-flow, bert-for-tf2\n",
            "Successfully installed bert-for-tf2-0.14.4 params-flow-0.8.2 py-params-0.9.7\n",
            "Collecting sentencepiece\n",
            "\u001b[?25l  Downloading https://files.pythonhosted.org/packages/d4/a4/d0a884c4300004a78cca907a6ff9a5e9fe4f090f5d95ab341c53d28cbc58/sentencepiece-0.1.91-cp36-cp36m-manylinux1_x86_64.whl (1.1MB)\n",
            "\u001b[K     |████████████████████████████████| 1.1MB 7.8MB/s \n",
            "\u001b[?25hInstalling collected packages: sentencepiece\n",
            "Successfully installed sentencepiece-0.1.91\n"
          ],
          "name": "stdout"
        }
      ]
    },
    {
      "cell_type": "code",
      "metadata": {
        "id": "r-I09yEWqlmd",
        "colab_type": "code",
        "colab": {}
      },
      "source": [
        "#make sure to run on tf version 2.0\n",
        "try:\n",
        "    %tensorflow_version 2.x\n",
        "except Exception:\n",
        "    pass\n",
        "import tensorflow as tf\n",
        "\n",
        "#include tf_hub\n",
        "import tensorflow_hub as hub\n",
        "\n",
        "#import layers and BERT (from hub)\n",
        "from tensorflow.keras import layers\n",
        "from tensorflow.keras import optimizers\n",
        "import bert"
      ],
      "execution_count": null,
      "outputs": []
    },
    {
      "cell_type": "code",
      "metadata": {
        "id": "b1g4r38dyAZ_",
        "colab_type": "code",
        "colab": {
          "base_uri": "https://localhost:8080/",
          "height": 91
        },
        "outputId": "7526ec4b-367e-4c03-eff9-6f515100bd05"
      },
      "source": [
        "#check dataset columns\n",
        "print(df_train_clean.columns.values)\n",
        "print(df_train_clean.target.unique())\n",
        "\n",
        "#separate labels from tweets\n",
        "tweets = df_train_clean.text_cleaned\n",
        "labels = df_train_clean.target\n",
        "\n",
        "#check on random entry\n",
        "print(tweets[10])\n",
        "print(labels[10])"
      ],
      "execution_count": null,
      "outputs": [
        {
          "output_type": "stream",
          "text": [
            "['target' 'text_cleaned']\n",
            "[1 0]\n",
            "three people died heat wave far\n",
            "1\n"
          ],
          "name": "stdout"
        }
      ]
    },
    {
      "cell_type": "markdown",
      "metadata": {
        "id": "G4OZdSDBWa04",
        "colab_type": "text"
      },
      "source": [
        "Test if data cleaned with R works better. It didn't. Just skip the next two cells."
      ]
    },
    {
      "cell_type": "code",
      "metadata": {
        "id": "vLm9f_e2P71g",
        "colab_type": "code",
        "colab": {
          "resources": {
            "http://localhost:8080/nbextensions/google.colab/files.js": {
              "data": "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",
              "ok": true,
              "headers": [
                [
                  "content-type",
                  "application/javascript"
                ]
              ],
              "status": 200,
              "status_text": "OK"
            }
          },
          "base_uri": "https://localhost:8080/",
          "height": 75
        },
        "outputId": "9d058120-a7d9-4557-8dbb-5d153a9146e6"
      },
      "source": [
        "#test with R data\n",
        "uploaded_clean = files.upload()\n",
        "df_cleaned = pd.read_csv(io.StringIO(uploaded_clean['text_targetR.csv'].decode('utf-8')), sep = ',')"
      ],
      "execution_count": null,
      "outputs": [
        {
          "output_type": "display_data",
          "data": {
            "text/html": [
              "\n",
              "     <input type=\"file\" id=\"files-093a3f77-9c07-44ca-839a-ba61452e3c6f\" name=\"files[]\" multiple disabled\n",
              "        style=\"border:none\" />\n",
              "     <output id=\"result-093a3f77-9c07-44ca-839a-ba61452e3c6f\">\n",
              "      Upload widget is only available when the cell has been executed in the\n",
              "      current browser session. Please rerun this cell to enable.\n",
              "      </output>\n",
              "      <script src=\"/nbextensions/google.colab/files.js\"></script> "
            ],
            "text/plain": [
              "<IPython.core.display.HTML object>"
            ]
          },
          "metadata": {
            "tags": []
          }
        },
        {
          "output_type": "stream",
          "text": [
            "Saving text_targetR.csv to text_targetR (2).csv\n"
          ],
          "name": "stdout"
        }
      ]
    },
    {
      "cell_type": "code",
      "metadata": {
        "id": "FuYHq08AQCzh",
        "colab_type": "code",
        "colab": {
          "base_uri": "https://localhost:8080/",
          "height": 54
        },
        "outputId": "269957be-f9e7-4d7a-de55-b0968492e53c"
      },
      "source": [
        "#separate labels from tweets\n",
        "tweets = df_cleaned.text\n",
        "labels = df_cleaned.target\n",
        "\n",
        "#check on random entry\n",
        "print(tweets[10])\n",
        "print(labels[10])"
      ],
      "execution_count": null,
      "outputs": [
        {
          "output_type": "stream",
          "text": [
            "three people died from the heat wave so far\n",
            "1\n"
          ],
          "name": "stdout"
        }
      ]
    },
    {
      "cell_type": "markdown",
      "metadata": {
        "id": "aDoHX5HNrtlu",
        "colab_type": "text"
      },
      "source": [
        "# **Tokenization**\n",
        "\n",
        "Using 30,000 token vocabulary from bert\n",
        "--> WordPiece embeddings"
      ]
    },
    {
      "cell_type": "code",
      "metadata": {
        "id": "uTwJphOUzNm2",
        "colab_type": "code",
        "colab": {}
      },
      "source": [
        "#load BERT tokenizer class\n",
        "BertTokenizer = bert.bert_tokenization.FullTokenizer\n",
        "#create BERT embedding layer (won't be trained as set to FALSE)\n",
        "bert_layer = hub.KerasLayer(\"https://tfhub.dev/tensorflow/bert_en_uncased_L-12_H-768_A-12/1\",\n",
        "                            trainable=False)\n",
        "#create BERT vocabulary as numpy array\n",
        "vocabulary_file = bert_layer.resolved_object.vocab_file.asset_path.numpy()\n",
        "#set all to lower case\n",
        "to_lower_case = bert_layer.resolved_object.do_lower_case.numpy()\n",
        "#pass vocab and lower case variable to tokenizer object\n",
        "tokenizer = BertTokenizer(vocabulary_file, to_lower_case)"
      ],
      "execution_count": null,
      "outputs": []
    },
    {
      "cell_type": "code",
      "metadata": {
        "id": "KCnzo80f1BuF",
        "colab_type": "code",
        "colab": {
          "base_uri": "https://localhost:8080/",
          "height": 54
        },
        "outputId": "7b78aee4-1015-4544-cb58-bd7c441b69b9"
      },
      "source": [
        "#test tokenizer\n",
        "print(tokenizer.tokenize(\"Look! A vulcanic erruption.\"))\n",
        "tokenizer.convert_tokens_to_ids(tokenizer.tokenize(\"Look! A vulcanic erruption.\"))"
      ],
      "execution_count": null,
      "outputs": [
        {
          "output_type": "stream",
          "text": [
            "['look', '!', 'a', 'vulcan', '##ic', 'er', '##rup', '##tion', '.']\n"
          ],
          "name": "stdout"
        },
        {
          "output_type": "execute_result",
          "data": {
            "text/plain": [
              "[2298, 999, 1037, 25993, 2594, 9413, 21531, 3508, 1012]"
            ]
          },
          "metadata": {
            "tags": []
          },
          "execution_count": 78
        }
      ]
    },
    {
      "cell_type": "code",
      "metadata": {
        "id": "1L4503YO2YzO",
        "colab_type": "code",
        "colab": {
          "base_uri": "https://localhost:8080/",
          "height": 35
        },
        "outputId": "3c1b0d2a-85a4-46a1-f883-1578c222d9a3"
      },
      "source": [
        "#define function to automatically tokenize tweets\n",
        "def tokenize_tweets(text_tweets):\n",
        "    return tokenizer.convert_tokens_to_ids(tokenizer.tokenize(text_tweets))\n",
        "\n",
        "#tokenize all tweets\n",
        "tokenized_tweets = [tokenize_tweets(tweet) for tweet in tweets ]\n",
        "\n",
        "tokenized_tweets[10]"
      ],
      "execution_count": null,
      "outputs": [
        {
          "output_type": "execute_result",
          "data": {
            "text/plain": [
              "[2093, 2111, 2351, 3684, 4400, 2521]"
            ]
          },
          "metadata": {
            "tags": []
          },
          "execution_count": 79
        }
      ]
    },
    {
      "cell_type": "markdown",
      "metadata": {
        "id": "rxCrSZvosotD",
        "colab_type": "text"
      },
      "source": [
        "# Preparing Data"
      ]
    },
    {
      "cell_type": "code",
      "metadata": {
        "id": "J3Q7v7IqYMRq",
        "colab_type": "code",
        "colab": {
          "base_uri": "https://localhost:8080/",
          "height": 129
        },
        "outputId": "c2a4b517-2c23-44fe-8916-6fe3944b79b3"
      },
      "source": [
        "#install package for randomly splitting into train and validation sets\n",
        "!pip install sklearn\n",
        "from sklearn.model_selection import train_test_split\n",
        "from tensorflow.keras.preprocessing.sequence import pad_sequences\n",
        "\n",
        "tweets_train, tweets_validation, labels_train, labels_validation = train_test_split(tokenized_tweets, labels,test_size=0.2)\n",
        "\n",
        "#eventually check how the ses look like?\n",
        "\n",
        "max_length = 128\n",
        "trunc_type = 'post'\n",
        "padding_type = 'post'\n",
        "\n",
        "#coursera try padding\n",
        "training_padded = pad_sequences(tweets_train,maxlen=max_length, padding = padding_type, truncating = trunc_type) \n",
        "testing_padded = pad_sequences(tweets_validation,maxlen=max_length, padding = padding_type, truncating = trunc_type) \n"
      ],
      "execution_count": null,
      "outputs": [
        {
          "output_type": "stream",
          "text": [
            "Requirement already satisfied: sklearn in /usr/local/lib/python3.6/dist-packages (0.0)\n",
            "Requirement already satisfied: scikit-learn in /usr/local/lib/python3.6/dist-packages (from sklearn) (0.22.2.post1)\n",
            "Requirement already satisfied: joblib>=0.11 in /usr/local/lib/python3.6/dist-packages (from scikit-learn->sklearn) (0.15.1)\n",
            "Requirement already satisfied: scipy>=0.17.0 in /usr/local/lib/python3.6/dist-packages (from scikit-learn->sklearn) (1.4.1)\n",
            "Requirement already satisfied: numpy>=1.11.0 in /usr/local/lib/python3.6/dist-packages (from scikit-learn->sklearn) (1.18.5)\n"
          ],
          "name": "stdout"
        }
      ]
    },
    {
      "cell_type": "markdown",
      "metadata": {
        "id": "sZtPxS_l97Fy",
        "colab_type": "text"
      },
      "source": [
        "# The model\n"
      ]
    },
    {
      "cell_type": "code",
      "metadata": {
        "id": "fZCdO-8ALtb9",
        "colab_type": "code",
        "colab": {
          "base_uri": "https://localhost:8080/",
          "height": 35
        },
        "outputId": "0bfa3fcb-0286-4788-94cc-c05baf519ebb"
      },
      "source": [
        "# define hyper parameters\n",
        "VOCAB_LENGTH = len(tokenizer.vocab)\n",
        "print(VOCAB_LENGTH)\n",
        "EMB_DIM = 16 #200 #embedding dimension\n",
        "#CNN_FILTERS =  10 #100 #number of filter neurons\n",
        "#DNN_UNITS = 8 #256 #number of dense neurons\n",
        "#OUTPUT_CLASSES = 2 #---> sets dense unit to 1\n",
        "\n",
        "#DROPOUT_RATE = 0.3\n",
        "\n",
        "#NB_EPOCHS = 20 #5 #number of epochs"
      ],
      "execution_count": null,
      "outputs": [
        {
          "output_type": "stream",
          "text": [
            "30522\n"
          ],
          "name": "stdout"
        }
      ]
    },
    {
      "cell_type": "code",
      "metadata": {
        "id": "PSH2Pv8hcCh_",
        "colab_type": "code",
        "colab": {
          "base_uri": "https://localhost:8080/",
          "height": 350
        },
        "outputId": "6909d92f-79fb-4e44-9e61-d5ccf34f60fe"
      },
      "source": [
        "import matplotlib.pyplot as plt\n",
        "import numpy as np\n",
        "\n",
        "\n",
        "#coursera model with self padded\n",
        "model = tf.keras.Sequential([\n",
        "    tf.keras.layers.Embedding(VOCAB_LENGTH, EMB_DIM, input_length=max_length),\n",
        "    #tf.keras.layers.Flatten(),\n",
        "    #tf.keras.layers.Bidirectional(tf.keras.layers.GRU(32)),\n",
        "    #tf.keras.layers.Bidirectional(tf.keras.layers.LSTM(8)),\n",
        "    #tf.keras.layers.Conv1D(64, 5, activation='relu'),\n",
        "    #tf.keras.layers.Bidirectional(tf.keras.layers.LSTM(32)),\n",
        "    tf.keras.layers.GlobalAveragePooling1D(),\n",
        "    tf.keras.layers.Dense(24, activation='relu'),\n",
        "    tf.keras.layers.Dropout(0.4),\n",
        "    tf.keras.layers.Dense(1, activation='sigmoid')\n",
        "])\n",
        "\n",
        "\n",
        "opt = tf.keras.optimizers.Adam(lr=0.001)\n",
        "model.compile(loss='binary_crossentropy', optimizer=opt, metrics=['accuracy'])\n",
        "model.summary()\n"
      ],
      "execution_count": null,
      "outputs": [
        {
          "output_type": "stream",
          "text": [
            "Model: \"sequential_29\"\n",
            "_________________________________________________________________\n",
            "Layer (type)                 Output Shape              Param #   \n",
            "=================================================================\n",
            "embedding_29 (Embedding)     (None, 128, 16)           488352    \n",
            "_________________________________________________________________\n",
            "global_average_pooling1d_24  (None, 16)                0         \n",
            "_________________________________________________________________\n",
            "dense_58 (Dense)             (None, 24)                408       \n",
            "_________________________________________________________________\n",
            "dropout_29 (Dropout)         (None, 24)                0         \n",
            "_________________________________________________________________\n",
            "dense_59 (Dense)             (None, 1)                 25        \n",
            "=================================================================\n",
            "Total params: 488,785\n",
            "Trainable params: 488,785\n",
            "Non-trainable params: 0\n",
            "_________________________________________________________________\n"
          ],
          "name": "stdout"
        }
      ]
    },
    {
      "cell_type": "code",
      "metadata": {
        "id": "qQgvxCIkHqKz",
        "colab_type": "code",
        "colab": {
          "base_uri": "https://localhost:8080/",
          "height": 1000
        },
        "outputId": "5b37a9df-4578-4545-c5da-4cbe10ff7b2e"
      },
      "source": [
        "#finding out the best learning rate\n",
        "def scheduler(epoch):\n",
        "  if epoch == 1:\n",
        "    return 0.0001\n",
        "  else:\n",
        "    return 0.0001 * epoch\n",
        "\n",
        "lr_schedule = tf.keras.callbacks.LearningRateScheduler(scheduler)\n",
        "\n",
        "opt = tf.keras.optimizers.Adam(lr=0.001)\n",
        "model.compile(loss='binary_crossentropy', optimizer=opt, metrics=['accuracy'])\n",
        "model.summary()\n",
        "\n",
        "history = model.fit(training_padded, labels_train, epochs=50, validation_data=(testing_padded, labels_validation), callbacks=[lr_schedule])\n",
        "lrs = 0.0001 * np.arange(50)\n",
        "plt.semilogx(lrs, history.history['loss'])\n",
        "plt.semilogx(lrs, history.history['val_loss'])\n",
        "plt.axis([0.0001,0.005,0,1])"
      ],
      "execution_count": null,
      "outputs": [
        {
          "output_type": "stream",
          "text": [
            "Model: \"sequential_25\"\n",
            "_________________________________________________________________\n",
            "Layer (type)                 Output Shape              Param #   \n",
            "=================================================================\n",
            "embedding_25 (Embedding)     (None, 128, 16)           488352    \n",
            "_________________________________________________________________\n",
            "global_average_pooling1d_20  (None, 16)                0         \n",
            "_________________________________________________________________\n",
            "dense_50 (Dense)             (None, 24)                408       \n",
            "_________________________________________________________________\n",
            "dropout_25 (Dropout)         (None, 24)                0         \n",
            "_________________________________________________________________\n",
            "dense_51 (Dense)             (None, 1)                 25        \n",
            "=================================================================\n",
            "Total params: 488,785\n",
            "Trainable params: 488,785\n",
            "Non-trainable params: 0\n",
            "_________________________________________________________________\n",
            "Epoch 1/50\n",
            "191/191 [==============================] - 2s 8ms/step - loss: 0.6929 - accuracy: 0.5233 - val_loss: 0.6929 - val_accuracy: 0.5903 - lr: 0.0000e+00\n",
            "Epoch 2/50\n",
            "191/191 [==============================] - 2s 8ms/step - loss: 0.6910 - accuracy: 0.5568 - val_loss: 0.6874 - val_accuracy: 0.5890 - lr: 1.0000e-04\n",
            "Epoch 3/50\n",
            "191/191 [==============================] - 2s 8ms/step - loss: 0.6870 - accuracy: 0.5657 - val_loss: 0.6816 - val_accuracy: 0.5890 - lr: 2.0000e-04\n",
            "Epoch 4/50\n",
            "191/191 [==============================] - 2s 8ms/step - loss: 0.6845 - accuracy: 0.5657 - val_loss: 0.6780 - val_accuracy: 0.5890 - lr: 3.0000e-04\n",
            "Epoch 5/50\n",
            "191/191 [==============================] - 2s 8ms/step - loss: 0.6829 - accuracy: 0.5657 - val_loss: 0.6757 - val_accuracy: 0.5890 - lr: 4.0000e-04\n",
            "Epoch 6/50\n",
            "191/191 [==============================] - 2s 8ms/step - loss: 0.6789 - accuracy: 0.5668 - val_loss: 0.6712 - val_accuracy: 0.5890 - lr: 5.0000e-04\n",
            "Epoch 7/50\n",
            "191/191 [==============================] - 2s 8ms/step - loss: 0.6646 - accuracy: 0.6000 - val_loss: 0.6499 - val_accuracy: 0.6632 - lr: 6.0000e-04\n",
            "Epoch 8/50\n",
            "191/191 [==============================] - 2s 8ms/step - loss: 0.6131 - accuracy: 0.7282 - val_loss: 0.5858 - val_accuracy: 0.7827 - lr: 7.0000e-04\n",
            "Epoch 9/50\n",
            "191/191 [==============================] - 1s 8ms/step - loss: 0.5147 - accuracy: 0.8069 - val_loss: 0.5039 - val_accuracy: 0.8083 - lr: 8.0000e-04\n",
            "Epoch 10/50\n",
            "191/191 [==============================] - 2s 8ms/step - loss: 0.4084 - accuracy: 0.8509 - val_loss: 0.4745 - val_accuracy: 0.7873 - lr: 9.0000e-04\n",
            "Epoch 11/50\n",
            "191/191 [==============================] - 2s 8ms/step - loss: 0.3468 - accuracy: 0.8668 - val_loss: 0.4384 - val_accuracy: 0.8056 - lr: 0.0010\n",
            "Epoch 12/50\n",
            "191/191 [==============================] - 1s 8ms/step - loss: 0.2947 - accuracy: 0.8901 - val_loss: 0.4412 - val_accuracy: 0.8050 - lr: 0.0011\n",
            "Epoch 13/50\n",
            "191/191 [==============================] - 2s 8ms/step - loss: 0.2603 - accuracy: 0.9039 - val_loss: 0.4553 - val_accuracy: 0.8063 - lr: 0.0012\n",
            "Epoch 14/50\n",
            "191/191 [==============================] - 2s 8ms/step - loss: 0.2270 - accuracy: 0.9151 - val_loss: 0.4787 - val_accuracy: 0.7958 - lr: 0.0013\n",
            "Epoch 15/50\n",
            "191/191 [==============================] - 2s 8ms/step - loss: 0.2049 - accuracy: 0.9278 - val_loss: 0.4916 - val_accuracy: 0.7971 - lr: 0.0014\n",
            "Epoch 16/50\n",
            "191/191 [==============================] - 2s 8ms/step - loss: 0.1795 - accuracy: 0.9353 - val_loss: 0.5223 - val_accuracy: 0.7853 - lr: 0.0015\n",
            "Epoch 17/50\n",
            "191/191 [==============================] - 1s 8ms/step - loss: 0.1513 - accuracy: 0.9488 - val_loss: 0.5538 - val_accuracy: 0.7886 - lr: 0.0016\n",
            "Epoch 18/50\n",
            "191/191 [==============================] - 1s 8ms/step - loss: 0.1325 - accuracy: 0.9550 - val_loss: 0.5901 - val_accuracy: 0.7807 - lr: 0.0017\n",
            "Epoch 19/50\n",
            "191/191 [==============================] - 1s 8ms/step - loss: 0.1210 - accuracy: 0.9580 - val_loss: 0.6139 - val_accuracy: 0.7951 - lr: 0.0018\n",
            "Epoch 20/50\n",
            "191/191 [==============================] - 2s 8ms/step - loss: 0.1101 - accuracy: 0.9635 - val_loss: 0.6513 - val_accuracy: 0.7919 - lr: 0.0019\n",
            "Epoch 21/50\n",
            "191/191 [==============================] - 2s 8ms/step - loss: 0.1029 - accuracy: 0.9645 - val_loss: 0.6928 - val_accuracy: 0.7761 - lr: 0.0020\n",
            "Epoch 22/50\n",
            "191/191 [==============================] - 1s 8ms/step - loss: 0.0936 - accuracy: 0.9698 - val_loss: 0.8369 - val_accuracy: 0.7380 - lr: 0.0021\n",
            "Epoch 23/50\n",
            "191/191 [==============================] - 1s 8ms/step - loss: 0.0873 - accuracy: 0.9690 - val_loss: 0.7561 - val_accuracy: 0.7794 - lr: 0.0022\n",
            "Epoch 24/50\n",
            "191/191 [==============================] - 2s 8ms/step - loss: 0.0828 - accuracy: 0.9722 - val_loss: 0.7826 - val_accuracy: 0.7840 - lr: 0.0023\n",
            "Epoch 25/50\n",
            "191/191 [==============================] - 2s 8ms/step - loss: 0.0816 - accuracy: 0.9729 - val_loss: 0.9097 - val_accuracy: 0.7360 - lr: 0.0024\n",
            "Epoch 26/50\n",
            "191/191 [==============================] - 1s 8ms/step - loss: 0.0730 - accuracy: 0.9750 - val_loss: 0.8651 - val_accuracy: 0.7879 - lr: 0.0025\n",
            "Epoch 27/50\n",
            "191/191 [==============================] - 2s 8ms/step - loss: 0.0702 - accuracy: 0.9764 - val_loss: 0.9087 - val_accuracy: 0.7800 - lr: 0.0026\n",
            "Epoch 28/50\n",
            "191/191 [==============================] - 1s 8ms/step - loss: 0.0756 - accuracy: 0.9745 - val_loss: 0.8358 - val_accuracy: 0.7774 - lr: 0.0027\n",
            "Epoch 29/50\n",
            "191/191 [==============================] - 1s 8ms/step - loss: 0.0712 - accuracy: 0.9747 - val_loss: 0.8648 - val_accuracy: 0.7741 - lr: 0.0028\n",
            "Epoch 30/50\n",
            "191/191 [==============================] - 1s 8ms/step - loss: 0.0618 - accuracy: 0.9800 - val_loss: 1.0773 - val_accuracy: 0.7347 - lr: 0.0029\n",
            "Epoch 31/50\n",
            "191/191 [==============================] - 1s 8ms/step - loss: 0.0643 - accuracy: 0.9765 - val_loss: 0.9750 - val_accuracy: 0.7787 - lr: 0.0030\n",
            "Epoch 32/50\n",
            "191/191 [==============================] - 2s 8ms/step - loss: 0.0577 - accuracy: 0.9791 - val_loss: 0.9846 - val_accuracy: 0.7715 - lr: 0.0031\n",
            "Epoch 33/50\n",
            "191/191 [==============================] - 2s 8ms/step - loss: 0.0597 - accuracy: 0.9773 - val_loss: 1.0587 - val_accuracy: 0.7564 - lr: 0.0032\n",
            "Epoch 34/50\n",
            "191/191 [==============================] - 2s 8ms/step - loss: 0.0547 - accuracy: 0.9795 - val_loss: 1.0447 - val_accuracy: 0.7597 - lr: 0.0033\n",
            "Epoch 35/50\n",
            "191/191 [==============================] - 2s 8ms/step - loss: 0.0501 - accuracy: 0.9810 - val_loss: 1.2436 - val_accuracy: 0.7695 - lr: 0.0034\n",
            "Epoch 36/50\n",
            "191/191 [==============================] - 1s 8ms/step - loss: 0.0448 - accuracy: 0.9816 - val_loss: 1.1458 - val_accuracy: 0.7702 - lr: 0.0035\n",
            "Epoch 37/50\n",
            "191/191 [==============================] - 1s 8ms/step - loss: 0.0439 - accuracy: 0.9806 - val_loss: 1.4335 - val_accuracy: 0.7728 - lr: 0.0036\n",
            "Epoch 38/50\n",
            "191/191 [==============================] - 1s 8ms/step - loss: 0.0494 - accuracy: 0.9785 - val_loss: 1.3785 - val_accuracy: 0.7610 - lr: 0.0037\n",
            "Epoch 39/50\n",
            "191/191 [==============================] - 1s 8ms/step - loss: 0.0406 - accuracy: 0.9814 - val_loss: 1.4030 - val_accuracy: 0.7636 - lr: 0.0038\n",
            "Epoch 40/50\n",
            "191/191 [==============================] - 1s 8ms/step - loss: 0.0452 - accuracy: 0.9810 - val_loss: 1.4483 - val_accuracy: 0.7557 - lr: 0.0039\n",
            "Epoch 41/50\n",
            "191/191 [==============================] - 2s 8ms/step - loss: 0.0368 - accuracy: 0.9831 - val_loss: 1.5971 - val_accuracy: 0.7663 - lr: 0.0040\n",
            "Epoch 42/50\n",
            "191/191 [==============================] - 2s 8ms/step - loss: 0.0431 - accuracy: 0.9803 - val_loss: 1.8575 - val_accuracy: 0.7242 - lr: 0.0041\n",
            "Epoch 43/50\n",
            "191/191 [==============================] - 2s 8ms/step - loss: 0.0395 - accuracy: 0.9823 - val_loss: 1.7425 - val_accuracy: 0.7630 - lr: 0.0042\n",
            "Epoch 44/50\n",
            "191/191 [==============================] - 1s 8ms/step - loss: 0.0456 - accuracy: 0.9806 - val_loss: 1.7752 - val_accuracy: 0.7577 - lr: 0.0043\n",
            "Epoch 45/50\n",
            "191/191 [==============================] - 2s 8ms/step - loss: 0.0446 - accuracy: 0.9785 - val_loss: 1.7223 - val_accuracy: 0.7597 - lr: 0.0044\n",
            "Epoch 46/50\n",
            "191/191 [==============================] - 1s 8ms/step - loss: 0.0384 - accuracy: 0.9818 - val_loss: 1.7707 - val_accuracy: 0.7564 - lr: 0.0045\n",
            "Epoch 47/50\n",
            "191/191 [==============================] - 1s 8ms/step - loss: 0.0369 - accuracy: 0.9824 - val_loss: 2.1624 - val_accuracy: 0.7144 - lr: 0.0046\n",
            "Epoch 48/50\n",
            "191/191 [==============================] - 1s 8ms/step - loss: 0.0452 - accuracy: 0.9796 - val_loss: 1.8464 - val_accuracy: 0.7413 - lr: 0.0047\n",
            "Epoch 49/50\n",
            "191/191 [==============================] - 1s 8ms/step - loss: 0.0415 - accuracy: 0.9808 - val_loss: 2.1835 - val_accuracy: 0.7603 - lr: 0.0048\n",
            "Epoch 50/50\n",
            "191/191 [==============================] - 2s 8ms/step - loss: 0.0372 - accuracy: 0.9806 - val_loss: 2.3033 - val_accuracy: 0.7472 - lr: 0.0049\n"
          ],
          "name": "stdout"
        },
        {
          "output_type": "execute_result",
          "data": {
            "text/plain": [
              "(0.0001, 0.005, 0.0, 1.0)"
            ]
          },
          "metadata": {
            "tags": []
          },
          "execution_count": 89
        },
        {
          "output_type": "display_data",
          "data": {
            "image/png": "[encoded data removed]",
            "text/plain": [
              "<Figure size 432x288 with 1 Axes>"
            ]
          },
          "metadata": {
            "tags": [],
            "needs_background": "light"
          }
        }
      ]
    },
    {
      "cell_type": "code",
      "metadata": {
        "id": "ahyIcwUDcbM5",
        "colab_type": "code",
        "colab": {
          "base_uri": "https://localhost:8080/",
          "height": 1000
        },
        "outputId": "09d21354-9635-46d2-8d83-33f5e3eb90fd"
      },
      "source": [
        "#train coursera model with self padded\n",
        "historyP= model.fit(training_padded, labels_train, epochs=NB_EPOCHS, validation_data=(testing_padded, labels_validation), verbose=2)\n",
        "\n",
        "#evaluate cousera model\n",
        "\n",
        "\n",
        "def plot_graphs(history, string):\n",
        "  plt.plot(history.history[string])\n",
        "  plt.plot(history.history['val_'+string])\n",
        "  plt.xlabel(\"Epochs\")\n",
        "  plt.ylabel(string)\n",
        "  plt.legend([string, 'val_'+string])\n",
        "  plt.show()\n",
        "  \n",
        "plot_graphs(historyP, \"accuracy\")\n",
        "plot_graphs(historyP, \"loss\")"
      ],
      "execution_count": null,
      "outputs": [
        {
          "output_type": "stream",
          "text": [
            "Epoch 1/20\n",
            "191/191 - 1s - loss: 0.6854 - accuracy: 0.5627 - val_loss: 0.6764 - val_accuracy: 0.5890\n",
            "Epoch 2/20\n",
            "191/191 - 1s - loss: 0.6800 - accuracy: 0.5662 - val_loss: 0.6686 - val_accuracy: 0.5890\n",
            "Epoch 3/20\n",
            "191/191 - 1s - loss: 0.6589 - accuracy: 0.5956 - val_loss: 0.6397 - val_accuracy: 0.6520\n",
            "Epoch 4/20\n",
            "191/191 - 1s - loss: 0.6059 - accuracy: 0.7222 - val_loss: 0.5849 - val_accuracy: 0.7965\n",
            "Epoch 5/20\n",
            "191/191 - 1s - loss: 0.5270 - accuracy: 0.7901 - val_loss: 0.5176 - val_accuracy: 0.8011\n",
            "Epoch 6/20\n",
            "191/191 - 1s - loss: 0.4480 - accuracy: 0.8279 - val_loss: 0.4764 - val_accuracy: 0.8063\n",
            "Epoch 7/20\n",
            "191/191 - 1s - loss: 0.3970 - accuracy: 0.8507 - val_loss: 0.4552 - val_accuracy: 0.8083\n",
            "Epoch 8/20\n",
            "191/191 - 1s - loss: 0.3525 - accuracy: 0.8675 - val_loss: 0.4491 - val_accuracy: 0.8116\n",
            "Epoch 9/20\n",
            "191/191 - 1s - loss: 0.3224 - accuracy: 0.8829 - val_loss: 0.4526 - val_accuracy: 0.8063\n",
            "Epoch 10/20\n",
            "191/191 - 1s - loss: 0.2895 - accuracy: 0.8982 - val_loss: 0.4496 - val_accuracy: 0.8096\n",
            "Epoch 11/20\n",
            "191/191 - 1s - loss: 0.2638 - accuracy: 0.9059 - val_loss: 0.4564 - val_accuracy: 0.8070\n",
            "Epoch 12/20\n",
            "191/191 - 1s - loss: 0.2418 - accuracy: 0.9171 - val_loss: 0.4660 - val_accuracy: 0.8017\n",
            "Epoch 13/20\n",
            "191/191 - 1s - loss: 0.2147 - accuracy: 0.9238 - val_loss: 0.4783 - val_accuracy: 0.7991\n",
            "Epoch 14/20\n",
            "191/191 - 1s - loss: 0.2060 - accuracy: 0.9273 - val_loss: 0.4917 - val_accuracy: 0.7991\n",
            "Epoch 15/20\n",
            "191/191 - 1s - loss: 0.1900 - accuracy: 0.9348 - val_loss: 0.5091 - val_accuracy: 0.7873\n",
            "Epoch 16/20\n",
            "191/191 - 1s - loss: 0.1723 - accuracy: 0.9414 - val_loss: 0.5322 - val_accuracy: 0.7853\n",
            "Epoch 17/20\n",
            "191/191 - 1s - loss: 0.1645 - accuracy: 0.9465 - val_loss: 0.5349 - val_accuracy: 0.7892\n",
            "Epoch 18/20\n",
            "191/191 - 1s - loss: 0.1541 - accuracy: 0.9483 - val_loss: 0.5538 - val_accuracy: 0.7827\n",
            "Epoch 19/20\n",
            "191/191 - 1s - loss: 0.1401 - accuracy: 0.9570 - val_loss: 0.5764 - val_accuracy: 0.7873\n",
            "Epoch 20/20\n",
            "191/191 - 1s - loss: 0.1361 - accuracy: 0.9562 - val_loss: 0.6120 - val_accuracy: 0.7741\n"
          ],
          "name": "stdout"
        },
        {
          "output_type": "display_data",
          "data": {
            "image/png": "[encoded data removed]",
            "text/plain": [
              "<Figure size 432x288 with 1 Axes>"
            ]
          },
          "metadata": {
            "tags": [],
            "needs_background": "light"
          }
        },
        {
          "output_type": "display_data",
          "data": {
            "image/png": "[encoded data removed]",
            "text/plain": [
              "<Figure size 432x288 with 1 Axes>"
            ]
          },
          "metadata": {
            "tags": [],
            "needs_background": "light"
          }
        }
      ]
    }
  ]
}